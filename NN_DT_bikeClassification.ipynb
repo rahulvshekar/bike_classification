{
 "cells": [
  {
   "cell_type": "markdown",
   "metadata": {},
   "source": [
    "ACTUAL IMPLEMENTATION:\n",
    "    \n",
    "df=pd.read_csv(\"bike_classification.csv\")\n",
    "\n",
    "train_df, test_df=train_test_split(df,test_size_proportion=0.3)\n",
    "\n",
    "tree=decision_tree_algorithm(train_df)\n",
    "\n",
    "accuracy=calculate_accuracy(test_df,tree)"
   ]
  },
  {
   "cell_type": "markdown",
   "metadata": {},
   "source": [
    "## Import Statements"
   ]
  },
  {
   "cell_type": "code",
   "execution_count": 43,
   "metadata": {},
   "outputs": [],
   "source": [
    "import numpy as np\n",
    "import pandas as pd\n",
    "\n",
    "import matplotlib.pyplot as plt\n",
    "import seaborn as sns\n",
    "%matplotlib inline\n",
    "\n",
    "import random\n",
    "from pprint import pprint"
   ]
  },
  {
   "cell_type": "markdown",
   "metadata": {},
   "source": [
    "## Load and prepare data"
   ]
  },
  {
   "cell_type": "code",
   "execution_count": 44,
   "metadata": {},
   "outputs": [],
   "source": [
    ""
   ]
  },
  {
   "cell_type": "code",
   "execution_count": 45,
   "metadata": {},
   "outputs": [
    {
     "data": {
      "text/html": [
       "<div>\n",
       "<style scoped>\n",
       "    .dataframe tbody tr th:only-of-type {\n",
       "        vertical-align: middle;\n",
       "    }\n",
       "\n",
       "    .dataframe tbody tr th {\n",
       "        vertical-align: top;\n",
       "    }\n",
       "\n",
       "    .dataframe thead th {\n",
       "        text-align: right;\n",
       "    }\n",
       "</style>\n",
       "<table border=\"1\" class=\"dataframe\">\n",
       "  <thead>\n",
       "    <tr style=\"text-align: right;\">\n",
       "      <th></th>\n",
       "      <th>Engine(cc)</th>\n",
       "      <th>Power(bhp)</th>\n",
       "      <th>Weight(lbs)</th>\n",
       "      <th>Mileage(km)</th>\n",
       "      <th>Price(Rs)</th>\n",
       "      <th>label</th>\n",
       "    </tr>\n",
       "  </thead>\n",
       "  <tbody>\n",
       "    <tr>\n",
       "      <th>0</th>\n",
       "      <td>999</td>\n",
       "      <td>199.0</td>\n",
       "      <td>410</td>\n",
       "      <td>27</td>\n",
       "      <td>400000</td>\n",
       "      <td>sports</td>\n",
       "    </tr>\n",
       "    <tr>\n",
       "      <th>1</th>\n",
       "      <td>200</td>\n",
       "      <td>12.5</td>\n",
       "      <td>260</td>\n",
       "      <td>55</td>\n",
       "      <td>100000</td>\n",
       "      <td>mileage</td>\n",
       "    </tr>\n",
       "    <tr>\n",
       "      <th>2</th>\n",
       "      <td>110</td>\n",
       "      <td>6.2</td>\n",
       "      <td>176</td>\n",
       "      <td>40</td>\n",
       "      <td>55000</td>\n",
       "      <td>moped</td>\n",
       "    </tr>\n",
       "    <tr>\n",
       "      <th>3</th>\n",
       "      <td>1200</td>\n",
       "      <td>210.0</td>\n",
       "      <td>390</td>\n",
       "      <td>25</td>\n",
       "      <td>290000</td>\n",
       "      <td>sports</td>\n",
       "    </tr>\n",
       "    <tr>\n",
       "      <th>4</th>\n",
       "      <td>1000</td>\n",
       "      <td>208.0</td>\n",
       "      <td>410</td>\n",
       "      <td>29</td>\n",
       "      <td>330000</td>\n",
       "      <td>sports</td>\n",
       "    </tr>\n",
       "  </tbody>\n",
       "</table>\n",
       "</div>"
      ],
      "text/plain": [
       "   Engine(cc)  Power(bhp)  Weight(lbs)  Mileage(km)  Price(Rs)    label\n",
       "0         999       199.0          410           27     400000   sports\n",
       "1         200        12.5          260           55     100000  mileage\n",
       "2         110         6.2          176           40      55000    moped\n",
       "3        1200       210.0          390           25     290000   sports\n",
       "4        1000       208.0          410           29     330000   sports"
      ]
     },
     "execution_count": 45,
     "metadata": {},
     "output_type": "execute_result"
    }
   ],
   "source": [
    "'''last column is our label used for classification and there should be no missing value, it is renamed as label'''\n",
    "df=df.rename(columns={\"BikeType\":\"label\"})\n",
    "df.head()"
   ]
  },
  {
   "cell_type": "code",
   "execution_count": 46,
   "metadata": {},
   "outputs": [
    {
     "name": "stdout",
     "output_type": "stream",
     "text": [
      "<class 'pandas.core.frame.DataFrame'>\n",
      "RangeIndex: 47 entries, 0 to 46\n",
      "Data columns (total 6 columns):\n",
      "Engine(cc)     47 non-null int64\n",
      "Power(bhp)     47 non-null float64\n",
      "Weight(lbs)    47 non-null int64\n",
      "Mileage(km)    47 non-null int64\n",
      "Price(Rs)      47 non-null int64\n",
      "label          47 non-null object\n",
      "dtypes: float64(1), int64(4), object(1)\n",
      "memory usage: 2.3+ KB\n"
     ]
    }
   ],
   "source": [
    "''' Gives information about the number of rows, columns, data type etc'''\n",
    "df.info()"
   ]
  },
  {
   "cell_type": "markdown",
   "metadata": {},
   "source": [
    "## train-test-split function"
   ]
  },
  {
   "cell_type": "code",
   "execution_count": 47,
   "metadata": {},
   "outputs": [],
   "source": [
    "def train_test_split(df,test_size):\n",
    "    if isinstance(test_size,float):\n",
    "        test_size=round(test_size * len(df))\n",
    "    indices=df.index.tolist()\n",
    "    test_indices=random.sample(population=indices,k=test_size)   #to randomly select train test indices\n",
    "    print(test_indices)\n",
    "    test_df=df.loc[test_indices]\n",
    "    train_df=df.drop(test_indices)\n",
    "    \n",
    "    return train_df,test_df"
   ]
  },
  {
   "cell_type": "code",
   "execution_count": 48,
   "metadata": {},
   "outputs": [
    {
     "name": "stdout",
     "output_type": "stream",
     "text": [
      "[45, 33, 17, 46, 15, 13, 37, 26, 40, 44, 28, 31, 22, 5]\n"
     ]
    },
    {
     "data": {
      "text/html": [
       "<div>\n",
       "<style scoped>\n",
       "    .dataframe tbody tr th:only-of-type {\n",
       "        vertical-align: middle;\n",
       "    }\n",
       "\n",
       "    .dataframe tbody tr th {\n",
       "        vertical-align: top;\n",
       "    }\n",
       "\n",
       "    .dataframe thead th {\n",
       "        text-align: right;\n",
       "    }\n",
       "</style>\n",
       "<table border=\"1\" class=\"dataframe\">\n",
       "  <thead>\n",
       "    <tr style=\"text-align: right;\">\n",
       "      <th></th>\n",
       "      <th>Engine(cc)</th>\n",
       "      <th>Power(bhp)</th>\n",
       "      <th>Weight(lbs)</th>\n",
       "      <th>Mileage(km)</th>\n",
       "      <th>Price(Rs)</th>\n",
       "      <th>label</th>\n",
       "    </tr>\n",
       "  </thead>\n",
       "  <tbody>\n",
       "    <tr>\n",
       "      <th>45</th>\n",
       "      <td>190</td>\n",
       "      <td>8.7</td>\n",
       "      <td>250</td>\n",
       "      <td>50</td>\n",
       "      <td>100000</td>\n",
       "      <td>mileage</td>\n",
       "    </tr>\n",
       "    <tr>\n",
       "      <th>33</th>\n",
       "      <td>110</td>\n",
       "      <td>9.8</td>\n",
       "      <td>290</td>\n",
       "      <td>88</td>\n",
       "      <td>70000</td>\n",
       "      <td>mileage</td>\n",
       "    </tr>\n",
       "    <tr>\n",
       "      <th>17</th>\n",
       "      <td>1000</td>\n",
       "      <td>202.0</td>\n",
       "      <td>370</td>\n",
       "      <td>31</td>\n",
       "      <td>320000</td>\n",
       "      <td>sports</td>\n",
       "    </tr>\n",
       "    <tr>\n",
       "      <th>46</th>\n",
       "      <td>270</td>\n",
       "      <td>28.0</td>\n",
       "      <td>290</td>\n",
       "      <td>34</td>\n",
       "      <td>200000</td>\n",
       "      <td>highway</td>\n",
       "    </tr>\n",
       "    <tr>\n",
       "      <th>15</th>\n",
       "      <td>125</td>\n",
       "      <td>8.0</td>\n",
       "      <td>250</td>\n",
       "      <td>60</td>\n",
       "      <td>115000</td>\n",
       "      <td>mileage</td>\n",
       "    </tr>\n",
       "  </tbody>\n",
       "</table>\n",
       "</div>"
      ],
      "text/plain": [
       "    Engine(cc)  Power(bhp)  Weight(lbs)  Mileage(km)  Price(Rs)    label\n",
       "45         190         8.7          250           50     100000  mileage\n",
       "33         110         9.8          290           88      70000  mileage\n",
       "17        1000       202.0          370           31     320000   sports\n",
       "46         270        28.0          290           34     200000  highway\n",
       "15         125         8.0          250           60     115000  mileage"
      ]
     },
     "execution_count": 48,
     "metadata": {},
     "output_type": "execute_result"
    }
   ],
   "source": [
    "train_df,test_df=train_test_split(df,test_size=0.3)\n",
    "random.seed(0)\n",
    "test_df.head()\n"
   ]
  },
  {
   "cell_type": "markdown",
   "metadata": {},
   "source": [
    "## Helper functions"
   ]
  },
  {
   "cell_type": "markdown",
   "metadata": {},
   "source": [
    "For implementation of the main algorithm, we need certain functions.They are calculated here"
   ]
  },
  {
   "cell_type": "code",
   "execution_count": 49,
   "metadata": {},
   "outputs": [
    {
     "data": {
      "text/plain": [
       "array([[190, 8.7, 250, 50, 100000, 'mileage'],\n",
       "       [110, 9.8, 290, 88, 70000, 'mileage'],\n",
       "       [1000, 202.0, 370, 31, 320000, 'sports'],\n",
       "       [270, 28.0, 290, 34, 200000, 'highway'],\n",
       "       [125, 8.0, 250, 60, 115000, 'mileage']], dtype=object)"
      ]
     },
     "execution_count": 49,
     "metadata": {},
     "output_type": "execute_result"
    }
   ],
   "source": [
    "data=test_df.values\n",
    "data[:5]"
   ]
  },
  {
   "cell_type": "markdown",
   "metadata": {},
   "source": [
    "### data pure"
   ]
  },
  {
   "cell_type": "code",
   "execution_count": 50,
   "metadata": {},
   "outputs": [],
   "source": [
    "'''To check data purity: i.e to know whether our classification is generating only one label'''\n",
    "def check_purity(data):\n",
    "    label_column=data[:,-1]\n",
    "    unique_classes=np.unique(label_column)\n",
    "\n",
    "    if len(unique_classes)==1:\n",
    "        return True\n",
    "    else:\n",
    "        return False"
   ]
  },
  {
   "cell_type": "markdown",
   "metadata": {},
   "source": [
    "### classify"
   ]
  },
  {
   "cell_type": "code",
   "execution_count": 51,
   "metadata": {},
   "outputs": [],
   "source": [
    "def classify_data(data):\n",
    "    label_column=data[:,-1]\n",
    "    unique_classes, count_unique_classes=np.unique(label_column,return_counts=True)\n",
    "\n",
    "    index=count_unique_classes.argmax()\n",
    "    classification=unique_classes[index]  #since this label appears max no of times, it is the classification\n",
    "     \n",
    "    return classification"
   ]
  },
  {
   "cell_type": "code",
   "execution_count": 52,
   "metadata": {},
   "outputs": [],
   "source": [
    "#classify_data(train_df[train_df['Mileage(km)']>50].values)"
   ]
  },
  {
   "cell_type": "markdown",
   "metadata": {},
   "source": [
    "### potential splits"
   ]
  },
  {
   "cell_type": "code",
   "execution_count": 53,
   "metadata": {},
   "outputs": [],
   "source": [
    "'''\n",
    "This function determines the various ways in which splitting of data can happen that will result in better classification.\n",
    "\n",
    "'''\n",
    "def get_potential_splits(data):\n",
    "    potential_splits={}\n",
    "    _, n_columns=data.shape\n",
    "    for column_index in range(n_columns-1):\n",
    "        potential_splits[column_index]=[]\n",
    "        values=data[:,column_index]\n",
    "        unique_values=np.unique(values)\n",
    "    \n",
    "        for index in range(len(unique_values)):\n",
    "            if index!=0:\n",
    "                current_value=unique_values[index]\n",
    "                previous_value=unique_values[index-1]\n",
    "                potential_split=(current_value+previous_value)/2\n",
    "            \n",
    "            \n",
    "                potential_splits[column_index].append(potential_split)\n",
    "    \n",
    "    return potential_splits\n"
   ]
  },
  {
   "cell_type": "code",
   "execution_count": 54,
   "metadata": {},
   "outputs": [],
   "source": [
    "# if column_index==4:\n",
    "# print(values)"
   ]
  },
  {
   "cell_type": "code",
   "execution_count": 55,
   "metadata": {},
   "outputs": [
    {
     "data": {
      "text/plain": [
       "{0: [100.0,\n",
       "  117.5,\n",
       "  137.5,\n",
       "  175.0,\n",
       "  205.0,\n",
       "  215.0,\n",
       "  222.5,\n",
       "  237.0,\n",
       "  259.5,\n",
       "  275.0,\n",
       "  285.0,\n",
       "  295.0,\n",
       "  305.0,\n",
       "  325.0,\n",
       "  345.0,\n",
       "  635.0,\n",
       "  959.0,\n",
       "  998.5,\n",
       "  999.5,\n",
       "  1100.0],\n",
       " 1: [5.25,\n",
       "  5.65,\n",
       "  5.9,\n",
       "  6.1,\n",
       "  6.25,\n",
       "  6.4,\n",
       "  6.75,\n",
       "  7.1,\n",
       "  7.85,\n",
       "  9.25,\n",
       "  11.25,\n",
       "  12.75,\n",
       "  14.4,\n",
       "  16.9,\n",
       "  18.5,\n",
       "  19.65,\n",
       "  23.15,\n",
       "  26.05,\n",
       "  26.55,\n",
       "  27.25,\n",
       "  27.75,\n",
       "  28.5,\n",
       "  29.5,\n",
       "  75.0,\n",
       "  155.0,\n",
       "  193.5,\n",
       "  198.0,\n",
       "  199.5,\n",
       "  204.0,\n",
       "  209.0],\n",
       " 2: [150.0,\n",
       "  165.0,\n",
       "  173.0,\n",
       "  177.0,\n",
       "  179.0,\n",
       "  183.5,\n",
       "  188.0,\n",
       "  189.5,\n",
       "  195.0,\n",
       "  205.0,\n",
       "  215.0,\n",
       "  230.0,\n",
       "  250.0,\n",
       "  265.0,\n",
       "  275.0,\n",
       "  283.0,\n",
       "  287.0,\n",
       "  289.0,\n",
       "  292.5,\n",
       "  297.5,\n",
       "  345.0,\n",
       "  400.0,\n",
       "  425.0],\n",
       " 3: [21.5,\n",
       "  26.0,\n",
       "  27.5,\n",
       "  28.5,\n",
       "  30.5,\n",
       "  33.0,\n",
       "  34.5,\n",
       "  35.5,\n",
       "  36.5,\n",
       "  37.5,\n",
       "  38.5,\n",
       "  39.5,\n",
       "  41.0,\n",
       "  42.5,\n",
       "  43.5,\n",
       "  44.5,\n",
       "  47.0,\n",
       "  50.5,\n",
       "  53.5,\n",
       "  56.5,\n",
       "  59.0],\n",
       " 4: [53500.0,\n",
       "  56000.0,\n",
       "  58500.0,\n",
       "  61500.0,\n",
       "  64000.0,\n",
       "  66500.0,\n",
       "  69000.0,\n",
       "  72500.0,\n",
       "  87500.0,\n",
       "  107500.0,\n",
       "  120000.0,\n",
       "  129000.0,\n",
       "  134000.0,\n",
       "  142500.0,\n",
       "  160000.0,\n",
       "  185000.0,\n",
       "  210000.0,\n",
       "  222500.0,\n",
       "  227500.0,\n",
       "  260000.0,\n",
       "  310000.0,\n",
       "  360000.0,\n",
       "  395000.0,\n",
       "  450000.0]}"
      ]
     },
     "execution_count": 55,
     "metadata": {},
     "output_type": "execute_result"
    }
   ],
   "source": [
    "potential_splits=get_potential_splits(train_df.values)\n",
    "potential_splits"
   ]
  },
  {
   "cell_type": "code",
   "execution_count": 56,
   "metadata": {},
   "outputs": [
    {
     "data": {
      "text/plain": [
       "<matplotlib.collections.LineCollection at 0x1b5a7df9da0>"
      ]
     },
     "execution_count": 56,
     "metadata": {},
     "output_type": "execute_result"
    },
    {
     "data": {
      "image/png": "[encoded data removed]",
      "text/plain": [
       "<Figure size 726.125x432 with 1 Axes>"
      ]
     },
     "metadata": {
      "needs_background": "light"
     },
     "output_type": "display_data"
    }
   ],
   "source": [
    "'''Plot describing the various potential splits'''\n",
    "sns.lmplot(data=train_df, x=\"Mileage(km)\",y=\"Weight(lbs)\",hue=\"label\",fit_reg=False,height=6,aspect=1.5)\n",
    "plt.vlines(x=potential_splits[3],ymin=1,ymax=500)\n",
    "#plt.hlines(y=potential_splits[2],xmin=1,xmax=200)"
   ]
  },
  {
   "cell_type": "markdown",
   "metadata": {},
   "source": [
    "### Split data"
   ]
  },
  {
   "cell_type": "code",
   "execution_count": 57,
   "metadata": {},
   "outputs": [],
   "source": [
    "'''based on values from potential split, we create data below and data above that value'''\n",
    "def split_data(data,split_column, split_value):\n",
    "    split_column_values=data[:,split_column]\n",
    "    data_above=data[split_column_values >split_value]\n",
    "    data_below=data[split_column_values <=split_value] \n",
    "    return data_below,data_above"
   ]
  },
  {
   "cell_type": "code",
   "execution_count": 58,
   "metadata": {},
   "outputs": [
    {
     "data": {
      "text/plain": [
       "array([[190, 8.7, 250, 50, 100000, 'mileage'],\n",
       "       [110, 9.8, 290, 88, 70000, 'mileage'],\n",
       "       [1000, 202.0, 370, 31, 320000, 'sports'],\n",
       "       [270, 28.0, 290, 34, 200000, 'highway'],\n",
       "       [125, 8.0, 250, 60, 115000, 'mileage'],\n",
       "       [125, 15.6, 300, 60, 80000, 'mileage'],\n",
       "       [300, 29.0, 300, 36, 200000, 'highway'],\n",
       "       [920, 209.0, 410, 28, 298000, 'sports'],\n",
       "       [300, 29.0, 260, 37, 195000, 'highway'],\n",
       "       [110, 5.2, 165, 45, 60000, 'moped'],\n",
       "       [320, 28.0, 289, 36, 180000, 'highway'],\n",
       "       [1000, 190.0, 360, 29, 310000, 'sports'],\n",
       "       [920, 200.0, 400, 28, 300000, 'sports'],\n",
       "       [150, 7.0, 190, 38, 70000, 'moped']], dtype=object)"
      ]
     },
     "execution_count": 58,
     "metadata": {},
     "output_type": "execute_result"
    }
   ],
   "source": [
    "split_column=1\n",
    "split_value=100\n",
    "data"
   ]
  },
  {
   "cell_type": "code",
   "execution_count": 59,
   "metadata": {},
   "outputs": [
    {
     "data": {
      "text/plain": [
       "array([[1000, 202.0, 370, 31, 320000, 'sports'],\n",
       "       [920, 209.0, 410, 28, 298000, 'sports'],\n",
       "       [1000, 190.0, 360, 29, 310000, 'sports'],\n",
       "       [920, 200.0, 400, 28, 300000, 'sports']], dtype=object)"
      ]
     },
     "execution_count": 59,
     "metadata": {},
     "output_type": "execute_result"
    }
   ],
   "source": [
    "data_below,data_above=split_data(data,split_column,split_value)\n",
    "data_above"
   ]
  },
  {
   "cell_type": "code",
   "execution_count": 60,
   "metadata": {},
   "outputs": [
    {
     "data": {
      "text/plain": [
       "<matplotlib.collections.LineCollection at 0x1b5a81dbf98>"
      ]
     },
     "execution_count": 60,
     "metadata": {},
     "output_type": "execute_result"
    },
    {
     "data": {
      "image/png": "[encoded data removed]",
      "text/plain": [
       "<Figure size 648x432 with 1 Axes>"
      ]
     },
     "metadata": {
      "needs_background": "light"
     },
     "output_type": "display_data"
    }
   ],
   "source": [
    "'''for 1 potential split'''\n",
    "plotting_df=pd.DataFrame(data,columns=df.columns)\n",
    "sns.lmplot(data=plotting_df,x=\"Power(bhp)\",y=\"Weight(lbs)\",fit_reg=False,height=6,aspect=1.5)\n",
    "plt.vlines(x=split_value,ymin=1,ymax=400)\n",
    "#plt.xlim(55,)"
   ]
  },
  {
   "cell_type": "markdown",
   "metadata": {},
   "source": [
    "### Lowest overall entropy"
   ]
  },
  {
   "cell_type": "code",
   "execution_count": 61,
   "metadata": {},
   "outputs": [],
   "source": [
    "'''Entropy defines the overall disorderness of the system. Therefore more entropy means more data is scattered'''\n",
    "\n",
    "def calculate_entropy(data):\n",
    "    label_column=data[:,-1]\n",
    "    _,counts=np.unique(label_column,return_counts=True)\n",
    "    #print(counts)\n",
    "    probabilities=counts/counts.sum()\n",
    "    entropy=sum(probabilities * -np.log2(probabilities))   #entropy=weighted sum* uncertainity value\n",
    "    return entropy"
   ]
  },
  {
   "cell_type": "code",
   "execution_count": 62,
   "metadata": {},
   "outputs": [
    {
     "data": {
      "text/plain": [
       "0.0"
      ]
     },
     "execution_count": 62,
     "metadata": {},
     "output_type": "execute_result"
    }
   ],
   "source": [
    "calculate_entropy(data_above)   #beacuse that classification is unique: i.e it contains only 1 label\n",
    "\n",
    "#'''Entropy >1 is also possible, that means it is highly disordered'''"
   ]
  },
  {
   "cell_type": "code",
   "execution_count": 63,
   "metadata": {},
   "outputs": [],
   "source": [
    "def calculate_overall_entropy(data_below,data_above):\n",
    "    n_data_points=len(data_below)+len(data_above)\n",
    "\n",
    "    p_data_below=len(data_below)/n_data_points\n",
    "    p_data_above=len(data_above)/n_data_points\n",
    "\n",
    "    overall_entropy=(p_data_below * calculate_entropy(data_below)+ p_data_above * calculate_entropy(data_above))\n",
    "    \n",
    "    return overall_entropy"
   ]
  },
  {
   "cell_type": "code",
   "execution_count": 64,
   "metadata": {},
   "outputs": [],
   "source": [
    "'''Function to determine the best split out of many potential splits'''\n",
    "def determine_best_split(data,potential_splits):\n",
    "    \n",
    "    overall_entropy=999\n",
    "    for column_index in potential_splits:\n",
    "        for value in potential_splits[column_index]:\n",
    "            data_below,data_above=split_data(data,split_column=column_index,split_value=value)\n",
    "            current_overall_entropy=calculate_overall_entropy(data_below,data_above)\n",
    "        \n",
    "            if current_overall_entropy <= overall_entropy:\n",
    "                overall_entropy=current_overall_entropy\n",
    "                best_split_column=column_index\n",
    "                best_split_value=value\n",
    "    \n",
    "    return best_split_column,best_split_value"
   ]
  },
  {
   "cell_type": "code",
   "execution_count": 65,
   "metadata": {},
   "outputs": [
    {
     "data": {
      "text/plain": [
       "(4, 160000.0)"
      ]
     },
     "execution_count": 65,
     "metadata": {},
     "output_type": "execute_result"
    }
   ],
   "source": [
    "determine_best_split(data,potential_splits)"
   ]
  },
  {
   "cell_type": "markdown",
   "metadata": {},
   "source": [
    "## Decision Tree Algorithm"
   ]
  },
  {
   "cell_type": "markdown",
   "metadata": {},
   "source": [
    "subtree={question:[yes_answer,no_answer]}\n",
    "example_tree={\"Power(bhp) >100\":[\"sports\",{\"Weight(lbs) <200\":[\"moped\",{\"mileage(km) >50\":[\"mileage\",\"highway\"]}]}]}"
   ]
  },
  {
   "cell_type": "markdown",
   "metadata": {},
   "source": [
    "### Algorithm"
   ]
  },
  {
   "cell_type": "code",
   "execution_count": 66,
   "metadata": {},
   "outputs": [],
   "source": [
    "'''Main algorithm'''\n",
    "def decision_tree_algorithm(df,counter=0,min_samples=2,max_depth=5):\n",
    "    #data preparation\n",
    "    if counter==0:\n",
    "        global COLUMN_HEADERS\n",
    "        COLUMN_HEADERS=df.columns\n",
    "        data=df.values\n",
    "    else:\n",
    "        data=df\n",
    "    #base case\n",
    "    if (check_purity(data)) or (len(data) < min_samples) or (counter==max_depth):\n",
    "        classification=classify_data(data)\n",
    "        return classification\n",
    "    #recursive block\n",
    "    else:\n",
    "        counter+=1\n",
    "        #helper functions\n",
    "        potential_splits=get_potential_splits(data)\n",
    "        split_column,split_value=determine_best_split(data,potential_splits)\n",
    "        data_below,data_above=split_data(data,split_column,split_value)\n",
    "        \n",
    "        #instantiate subtree\n",
    "        feature_name=COLUMN_HEADERS[split_column]\n",
    "        question=\"{} <= {}\".format(feature_name,split_value)\n",
    "        sub_tree={question: []}\n",
    "        \n",
    "        #find_answers(recursion)\n",
    "        yes_answer=decision_tree_algorithm(data_below,counter,min_samples,max_depth)\n",
    "        no_answer=decision_tree_algorithm(data_above,counter,min_samples,max_depth)\n",
    "        \n",
    "        if yes_answer==no_answer:\n",
    "            sub_tree=yes_answer\n",
    "        else:\n",
    "            sub_tree[question].append(yes_answer)\n",
    "            sub_tree[question].append(no_answer)\n",
    "        \n",
    "        return sub_tree\n",
    "        "
   ]
  },
  {
   "cell_type": "code",
   "execution_count": 67,
   "metadata": {},
   "outputs": [
    {
     "name": "stdout",
     "output_type": "stream",
     "text": [
      "{'Power(bhp) <= 16.9': [{'Price(Rs) <= 72500.0': ['moped', 'mileage']},\n",
      "                        {'Price(Rs) <= 260000.0': ['highway', 'sports']}]}\n"
     ]
    }
   ],
   "source": [
    "tree=decision_tree_algorithm(train_df,max_depth=2)#[train_df.label!=\"sports\"])\n",
    "pprint(tree)#pruning the tree"
   ]
  },
  {
   "cell_type": "markdown",
   "metadata": {},
   "source": [
    "### classification"
   ]
  },
  {
   "cell_type": "code",
   "execution_count": 68,
   "metadata": {},
   "outputs": [
    {
     "data": {
      "text/plain": [
       "Engine(cc)         110\n",
       "Power(bhp)         9.8\n",
       "Weight(lbs)        290\n",
       "Mileage(km)         88\n",
       "Price(Rs)        70000\n",
       "label          mileage\n",
       "Name: 33, dtype: object"
      ]
     },
     "execution_count": 68,
     "metadata": {},
     "output_type": "execute_result"
    }
   ],
   "source": [
    "'''For an example test dataset'''\n",
    "example=test_df.iloc[1]\n",
    "example"
   ]
  },
  {
   "cell_type": "code",
   "execution_count": 69,
   "metadata": {},
   "outputs": [],
   "source": [
    "def classify_example(example,tree):\n",
    "    question=list(tree.keys())[0]\n",
    "    feature_name,comparison_operator,value=question.split()\n",
    "\n",
    "    #ask question\n",
    "    if example[feature_name]<=float(value):\n",
    "        answer=tree[question][0]\n",
    "    else:\n",
    "        answer=tree[question][1]\n",
    "\n",
    "    #base case\n",
    "    if not isinstance(answer,dict):\n",
    "        return answer\n",
    "\n",
    "    #recursive function\n",
    "    else: \n",
    "        residual_tree=answer\n",
    "        return classify_example(example,residual_tree)"
   ]
  },
  {
   "cell_type": "code",
   "execution_count": 70,
   "metadata": {},
   "outputs": [
    {
     "data": {
      "text/plain": [
       "'moped'"
      ]
     },
     "execution_count": 70,
     "metadata": {},
     "output_type": "execute_result"
    }
   ],
   "source": [
    "classify_example(example,tree)"
   ]
  },
  {
   "cell_type": "code",
   "execution_count": 71,
   "metadata": {},
   "outputs": [
    {
     "data": {
      "text/plain": [
       "True"
      ]
     },
     "execution_count": 71,
     "metadata": {},
     "output_type": "execute_result"
    }
   ],
   "source": [
    "example[\"Price(Rs)\"]<=130000"
   ]
  },
  {
   "cell_type": "markdown",
   "metadata": {},
   "source": [
    "## Accuracy"
   ]
  },
  {
   "cell_type": "code",
   "execution_count": 72,
   "metadata": {},
   "outputs": [],
   "source": [
    "'''Function to calculate accuracy'''\n",
    "def calculate_accuracy(df,tree):\n",
    "    df[\"classification\"]=df.apply(classify_example,axis=1,args=(tree,))\n",
    "    df[\"classification_correct\"]=df.classification==df.label\n",
    "    \n",
    "    accuracy=df.classification_correct.mean()\n",
    "    return accuracy"
   ]
  },
  {
   "cell_type": "code",
   "execution_count": 73,
   "metadata": {},
   "outputs": [
    {
     "data": {
      "text/plain": [
       "0.9285714285714286"
      ]
     },
     "execution_count": 73,
     "metadata": {},
     "output_type": "execute_result"
    }
   ],
   "source": [
    "calculate_accuracy(test_df,tree)"
   ]
  },
  {
   "cell_type": "code",
   "execution_count": 74,
   "metadata": {
    "scrolled": true
   },
   "outputs": [
    {
     "data": {
      "text/html": [
       "<div>\n",
       "<style scoped>\n",
       "    .dataframe tbody tr th:only-of-type {\n",
       "        vertical-align: middle;\n",
       "    }\n",
       "\n",
       "    .dataframe tbody tr th {\n",
       "        vertical-align: top;\n",
       "    }\n",
       "\n",
       "    .dataframe thead th {\n",
       "        text-align: right;\n",
       "    }\n",
       "</style>\n",
       "<table border=\"1\" class=\"dataframe\">\n",
       "  <thead>\n",
       "    <tr style=\"text-align: right;\">\n",
       "      <th></th>\n",
       "      <th>Engine(cc)</th>\n",
       "      <th>Power(bhp)</th>\n",
       "      <th>Weight(lbs)</th>\n",
       "      <th>Mileage(km)</th>\n",
       "      <th>Price(Rs)</th>\n",
       "      <th>label</th>\n",
       "      <th>classification</th>\n",
       "      <th>classification_correct</th>\n",
       "    </tr>\n",
       "  </thead>\n",
       "  <tbody>\n",
       "    <tr>\n",
       "      <th>45</th>\n",
       "      <td>190</td>\n",
       "      <td>8.7</td>\n",
       "      <td>250</td>\n",
       "      <td>50</td>\n",
       "      <td>100000</td>\n",
       "      <td>mileage</td>\n",
       "      <td>mileage</td>\n",
       "      <td>True</td>\n",
       "    </tr>\n",
       "    <tr>\n",
       "      <th>33</th>\n",
       "      <td>110</td>\n",
       "      <td>9.8</td>\n",
       "      <td>290</td>\n",
       "      <td>88</td>\n",
       "      <td>70000</td>\n",
       "      <td>mileage</td>\n",
       "      <td>moped</td>\n",
       "      <td>False</td>\n",
       "    </tr>\n",
       "    <tr>\n",
       "      <th>17</th>\n",
       "      <td>1000</td>\n",
       "      <td>202.0</td>\n",
       "      <td>370</td>\n",
       "      <td>31</td>\n",
       "      <td>320000</td>\n",
       "      <td>sports</td>\n",
       "      <td>sports</td>\n",
       "      <td>True</td>\n",
       "    </tr>\n",
       "    <tr>\n",
       "      <th>46</th>\n",
       "      <td>270</td>\n",
       "      <td>28.0</td>\n",
       "      <td>290</td>\n",
       "      <td>34</td>\n",
       "      <td>200000</td>\n",
       "      <td>highway</td>\n",
       "      <td>highway</td>\n",
       "      <td>True</td>\n",
       "    </tr>\n",
       "    <tr>\n",
       "      <th>15</th>\n",
       "      <td>125</td>\n",
       "      <td>8.0</td>\n",
       "      <td>250</td>\n",
       "      <td>60</td>\n",
       "      <td>115000</td>\n",
       "      <td>mileage</td>\n",
       "      <td>mileage</td>\n",
       "      <td>True</td>\n",
       "    </tr>\n",
       "    <tr>\n",
       "      <th>13</th>\n",
       "      <td>125</td>\n",
       "      <td>15.6</td>\n",
       "      <td>300</td>\n",
       "      <td>60</td>\n",
       "      <td>80000</td>\n",
       "      <td>mileage</td>\n",
       "      <td>mileage</td>\n",
       "      <td>True</td>\n",
       "    </tr>\n",
       "    <tr>\n",
       "      <th>37</th>\n",
       "      <td>300</td>\n",
       "      <td>29.0</td>\n",
       "      <td>300</td>\n",
       "      <td>36</td>\n",
       "      <td>200000</td>\n",
       "      <td>highway</td>\n",
       "      <td>highway</td>\n",
       "      <td>True</td>\n",
       "    </tr>\n",
       "    <tr>\n",
       "      <th>26</th>\n",
       "      <td>920</td>\n",
       "      <td>209.0</td>\n",
       "      <td>410</td>\n",
       "      <td>28</td>\n",
       "      <td>298000</td>\n",
       "      <td>sports</td>\n",
       "      <td>sports</td>\n",
       "      <td>True</td>\n",
       "    </tr>\n",
       "    <tr>\n",
       "      <th>40</th>\n",
       "      <td>300</td>\n",
       "      <td>29.0</td>\n",
       "      <td>260</td>\n",
       "      <td>37</td>\n",
       "      <td>195000</td>\n",
       "      <td>highway</td>\n",
       "      <td>highway</td>\n",
       "      <td>True</td>\n",
       "    </tr>\n",
       "    <tr>\n",
       "      <th>44</th>\n",
       "      <td>110</td>\n",
       "      <td>5.2</td>\n",
       "      <td>165</td>\n",
       "      <td>45</td>\n",
       "      <td>60000</td>\n",
       "      <td>moped</td>\n",
       "      <td>moped</td>\n",
       "      <td>True</td>\n",
       "    </tr>\n",
       "    <tr>\n",
       "      <th>28</th>\n",
       "      <td>320</td>\n",
       "      <td>28.0</td>\n",
       "      <td>289</td>\n",
       "      <td>36</td>\n",
       "      <td>180000</td>\n",
       "      <td>highway</td>\n",
       "      <td>highway</td>\n",
       "      <td>True</td>\n",
       "    </tr>\n",
       "    <tr>\n",
       "      <th>31</th>\n",
       "      <td>1000</td>\n",
       "      <td>190.0</td>\n",
       "      <td>360</td>\n",
       "      <td>29</td>\n",
       "      <td>310000</td>\n",
       "      <td>sports</td>\n",
       "      <td>sports</td>\n",
       "      <td>True</td>\n",
       "    </tr>\n",
       "    <tr>\n",
       "      <th>22</th>\n",
       "      <td>920</td>\n",
       "      <td>200.0</td>\n",
       "      <td>400</td>\n",
       "      <td>28</td>\n",
       "      <td>300000</td>\n",
       "      <td>sports</td>\n",
       "      <td>sports</td>\n",
       "      <td>True</td>\n",
       "    </tr>\n",
       "    <tr>\n",
       "      <th>5</th>\n",
       "      <td>150</td>\n",
       "      <td>7.0</td>\n",
       "      <td>190</td>\n",
       "      <td>38</td>\n",
       "      <td>70000</td>\n",
       "      <td>moped</td>\n",
       "      <td>moped</td>\n",
       "      <td>True</td>\n",
       "    </tr>\n",
       "  </tbody>\n",
       "</table>\n",
       "</div>"
      ],
      "text/plain": [
       "    Engine(cc)  Power(bhp)  Weight(lbs)  Mileage(km)  Price(Rs)    label  \\\n",
       "45         190         8.7          250           50     100000  mileage   \n",
       "33         110         9.8          290           88      70000  mileage   \n",
       "17        1000       202.0          370           31     320000   sports   \n",
       "46         270        28.0          290           34     200000  highway   \n",
       "15         125         8.0          250           60     115000  mileage   \n",
       "13         125        15.6          300           60      80000  mileage   \n",
       "37         300        29.0          300           36     200000  highway   \n",
       "26         920       209.0          410           28     298000   sports   \n",
       "40         300        29.0          260           37     195000  highway   \n",
       "44         110         5.2          165           45      60000    moped   \n",
       "28         320        28.0          289           36     180000  highway   \n",
       "31        1000       190.0          360           29     310000   sports   \n",
       "22         920       200.0          400           28     300000   sports   \n",
       "5          150         7.0          190           38      70000    moped   \n",
       "\n",
       "   classification  classification_correct  \n",
       "45        mileage                    True  \n",
       "33          moped                   False  \n",
       "17         sports                    True  \n",
       "46        highway                    True  \n",
       "15        mileage                    True  \n",
       "13        mileage                    True  \n",
       "37        highway                    True  \n",
       "26         sports                    True  \n",
       "40        highway                    True  \n",
       "44          moped                    True  \n",
       "28        highway                    True  \n",
       "31         sports                    True  \n",
       "22         sports                    True  \n",
       "5           moped                    True  "
      ]
     },
     "execution_count": 74,
     "metadata": {},
     "output_type": "execute_result"
    }
   ],
   "source": [
    "'''To check what rows resulted in incorrect classification'''\n",
    "test_df"
   ]
  },
  {
   "cell_type": "code",
   "execution_count": 77,
   "metadata": {},
   "outputs": [
    {
     "name": "stdout",
     "output_type": "stream",
     "text": [
      "{'Power(bhp) <= 16.9': [{'Price(Rs) <= 72500.0': ['moped', 'mileage']},\n",
      "                        {'Price(Rs) <= 260000.0': ['highway', 'sports']}]}\n"
     ]
    }
   ],
   "source": [
    "pprint(tree)"
   ]
  },
  {
   "cell_type": "code",
   "execution_count": 83,
   "metadata": {},
   "outputs": [
    {
     "name": "stdout",
     "output_type": "stream",
     "text": [
      "[34, 13, 38, 35, 37, 18, 28, 5, 44, 24, 20, 15, 41, 11]\n",
      "{'Power(bhp) <= 16.9': [{'Mileage(km) <= 47.5': ['moped', 'mileage']},\n",
      "                        {'Price(Rs) <= 260000.0': ['highway', 'sports']}]}\n",
      "1.0\n"
     ]
    }
   ],
   "source": [
    "'''Overall algorithm summarised in 3 steps, to avoid ranom.seed(0) function'''\n",
    "\n",
    "train_df, test_df=train_test_split(df,test_size=0.3)\n",
    "\n",
    "tree=decision_tree_algorithm(train_df,max_depth=3)\n",
    "\n",
    "accuracy=calculate_accuracy(test_df,tree)\n",
    "\n",
    "pprint(tree)\n",
    "pprint(accuracy)"
   ]
  },
  {
   "cell_type": "code",
   "execution_count": null,
   "metadata": {},
   "outputs": [],
   "source": []
  },
  {
   "cell_type": "code",
   "execution_count": null,
   "metadata": {},
   "outputs": [],
   "source": []
  }
 ],
 "metadata": {
  "kernelspec": {
   "display_name": "Python 3",
   "language": "python",
   "name": "python3"
  },
  "language_info": {
   "codemirror_mode": {
    "name": "ipython",
    "version": 3
   },
   "file_extension": ".py",
   "mimetype": "text/x-python",
   "name": "python",
   "nbconvert_exporter": "python",
   "pygments_lexer": "ipython3",
   "version": "3.7.3"
  }
 },
 "nbformat": 4,
 "nbformat_minor": 2
}
